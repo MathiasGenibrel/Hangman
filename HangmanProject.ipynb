{
 "cells": [
  {
   "cell_type": "markdown",
   "source": [
    "# Class Hangman (class du jeu)\n",
    "\n",
    "Cette class contient toutes les fonctions afin de pouvoir jouer au jeux.\n",
    "Le jeux ce démarre à l'aide de la méthode ``start_game``"
   ],
   "metadata": {
    "collapsed": false
   }
  },
  {
   "cell_type": "code",
   "execution_count": 1,
   "outputs": [],
   "source": [
    "import re\n",
    "\n",
    "\n",
    "class Hangman:\n",
    "    def __init__(self, error_guessing: int = 8):\n",
    "        # Secret word Section\n",
    "        self.secret_word = None\n",
    "        self.secret_word_guessing = None\n",
    "\n",
    "        # Guessing Section\n",
    "        self.error_guessing = error_guessing\n",
    "        self.list_guessing_letters = []\n",
    "\n",
    "        # Other param\n",
    "        self.regex_pattern = r\"[A-Za-z]+$\"\n",
    "\n",
    "    def start_game(self):\n",
    "        \"\"\"Public function: Used for start the Hangman Game\"\"\"\n",
    "\n",
    "        # Init the game with the secret word\n",
    "        self.__get_secret_word()\n",
    "\n",
    "        # print(self.secret_word)\n",
    "        # print(self.secret_word_guessing)\n",
    "\n",
    "        # While the secret word or life\n",
    "        while self.secret_word_guessing != self.secret_word:\n",
    "            self.__guessing_letter()\n",
    "\n",
    "    def __get_secret_word(self) -> None:\n",
    "        \"\"\"Set the secret word for the current game\"\"\"\n",
    "\n",
    "        while not self.secret_word:\n",
    "            secret_word = str(input(\"Votre mot secret : \"))\n",
    "\n",
    "            if len(secret_word) < 5:\n",
    "                print(\"Veuillez choisir un mot de plus de 4 caractères \\n\")\n",
    "            elif len(secret_word) > 25:\n",
    "                print(\"Veuillez choisir un mot de moins de 25 caractères \\n\")\n",
    "            elif re.match(self.regex_pattern, secret_word) is None:\n",
    "                print(\"Veuillez ne mettre que des lettres dans votre mot \\n\")\n",
    "\n",
    "            # Set the secret word in the context class\n",
    "            else:\n",
    "                self.secret_word = secret_word.lower()\n",
    "                self.secret_word_guessing = \"\".join([\"_\" for _ in secret_word])\n",
    "\n",
    "    def __guessing_letter(self) -> str:\n",
    "        \"\"\"Get the letter from the user input, and validate the input\"\"\"\n",
    "        guessing_letter = None\n",
    "\n",
    "        while not guessing_letter:\n",
    "            guessing_letter_input = str(input(\"Choisissez une lettre : \"))\n",
    "\n",
    "            # TODO remove this Dev mode\n",
    "            if guessing_letter_input == \"exit\":\n",
    "                self.secret_word_guessing = self.secret_word\n",
    "                break\n",
    "\n",
    "            # Validate data, control => length, pattern (regex) and if the letter has already played\n",
    "            if 0 == len(guessing_letter_input) or len(guessing_letter_input) > 1:\n",
    "                print(\"Veuillez ne choisir qu'une lettre ! [a, b, c, d, ...]\")\n",
    "            elif re.match(self.regex_pattern, guessing_letter_input) is None:\n",
    "                print(\"Veuillez choisir une lettre !\")\n",
    "            elif guessing_letter_input in self.list_guessing_letters:\n",
    "                print(\"Veuillez choisir une lettre que vous n'avez pas déjà sélectionnée !\")\n",
    "                print(f\"Voici un rappel des lettre que vous avez joué : {self.list_guessing_letters}\")\n",
    "\n",
    "            # Save guessing letter in context class, and return guessing letter\n",
    "            else:\n",
    "                self.list_guessing_letters.append(guessing_letter_input)\n",
    "                guessing_letter = guessing_letter_input\n",
    "\n",
    "        return guessing_letter\n"
   ],
   "metadata": {
    "collapsed": false
   }
  },
  {
   "cell_type": "code",
   "execution_count": 2,
   "outputs": [],
   "source": [
    "Hangman().start_game()"
   ],
   "metadata": {
    "collapsed": false
   }
  }
 ],
 "metadata": {
  "kernelspec": {
   "display_name": "Python 3",
   "language": "python",
   "name": "python3"
  },
  "language_info": {
   "codemirror_mode": {
    "name": "ipython",
    "version": 2
   },
   "file_extension": ".py",
   "mimetype": "text/x-python",
   "name": "python",
   "nbconvert_exporter": "python",
   "pygments_lexer": "ipython2",
   "version": "2.7.6"
  }
 },
 "nbformat": 4,
 "nbformat_minor": 0
}
